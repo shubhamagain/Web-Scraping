{
 "cells": [
  {
   "cell_type": "code",
   "execution_count": 1,
   "id": "5948e9fd",
   "metadata": {},
   "outputs": [],
   "source": [
    "import requests #to get persmission from websites to scrap\n",
    "from bs4 import BeautifulSoup\n",
    "name=[]\n",
    "price=[]\n",
    "rating=[]\n",
    "for i in range(1,19):\n",
    "    r=requests.get('https://www.flipkart.com/search?q=iphone&otracker=search&otracker1=search&marketplace=FLIPKART&as-show=on&as={x}'.format(x=i))\n",
    "    r.text\n",
    "    soup=BeautifulSoup(r.text)\n",
    "    n=soup.find_all('div',attrs={'class':'_4rR01T'})\n",
    "    \n",
    "    for i in n:\n",
    "        name.append(i.text)\n",
    "    p=soup.find_all('div',attrs={'class':'_30jeq3 _1_WHN1'})\n",
    "    for i in p:\n",
    "        price.append(int(i.text.replace('₹','').replace(',','')))\n",
    "    ra=soup.find_all('div',attrs={'class':'_3LWZlK'})\n",
    "    for i in ra:\n",
    "        rating.append(float(i.text))\n"
   ]
  },
  {
   "cell_type": "code",
   "execution_count": 6,
   "id": "9d93cca9",
   "metadata": {},
   "outputs": [
    {
     "name": "stdout",
     "output_type": "stream",
     "text": [
      "432\n",
      "432\n"
     ]
    },
    {
     "data": {
      "text/plain": [
       "432"
      ]
     },
     "execution_count": 6,
     "metadata": {},
     "output_type": "execute_result"
    }
   ],
   "source": [
    "print(len(price))\n",
    "print(len(name))\n",
    "\n",
    "rr=rating[0:len(name)]\n",
    "\n",
    "ids=list(range(1,len(name)+1))\n",
    "\n",
    "d={'id':ids,'name':name,'price':price,'rating':rr}\n",
    "len(ids)\n",
    "\n"
   ]
  },
  {
   "cell_type": "code",
   "execution_count": 7,
   "id": "42e30ebf",
   "metadata": {},
   "outputs": [
    {
     "data": {
      "text/html": [
       "<div>\n",
       "<style scoped>\n",
       "    .dataframe tbody tr th:only-of-type {\n",
       "        vertical-align: middle;\n",
       "    }\n",
       "\n",
       "    .dataframe tbody tr th {\n",
       "        vertical-align: top;\n",
       "    }\n",
       "\n",
       "    .dataframe thead th {\n",
       "        text-align: right;\n",
       "    }\n",
       "</style>\n",
       "<table border=\"1\" class=\"dataframe\">\n",
       "  <thead>\n",
       "    <tr style=\"text-align: right;\">\n",
       "      <th></th>\n",
       "      <th>id</th>\n",
       "      <th>name</th>\n",
       "      <th>price</th>\n",
       "      <th>rating</th>\n",
       "    </tr>\n",
       "  </thead>\n",
       "  <tbody>\n",
       "    <tr>\n",
       "      <th>0</th>\n",
       "      <td>1</td>\n",
       "      <td>APPLE iPhone 11 (White, 64 GB)</td>\n",
       "      <td>35990</td>\n",
       "      <td>4.6</td>\n",
       "    </tr>\n",
       "    <tr>\n",
       "      <th>1</th>\n",
       "      <td>2</td>\n",
       "      <td>APPLE iPhone 13 (Starlight, 128 GB)</td>\n",
       "      <td>59990</td>\n",
       "      <td>4.7</td>\n",
       "    </tr>\n",
       "    <tr>\n",
       "      <th>2</th>\n",
       "      <td>3</td>\n",
       "      <td>APPLE iPhone 13 (Midnight, 128 GB)</td>\n",
       "      <td>59990</td>\n",
       "      <td>4.7</td>\n",
       "    </tr>\n",
       "    <tr>\n",
       "      <th>3</th>\n",
       "      <td>4</td>\n",
       "      <td>APPLE iPhone 11 (Black, 64 GB)</td>\n",
       "      <td>35990</td>\n",
       "      <td>4.6</td>\n",
       "    </tr>\n",
       "    <tr>\n",
       "      <th>4</th>\n",
       "      <td>5</td>\n",
       "      <td>APPLE iPhone 13 (Green, 128 GB)</td>\n",
       "      <td>59990</td>\n",
       "      <td>4.7</td>\n",
       "    </tr>\n",
       "    <tr>\n",
       "      <th>...</th>\n",
       "      <td>...</td>\n",
       "      <td>...</td>\n",
       "      <td>...</td>\n",
       "      <td>...</td>\n",
       "    </tr>\n",
       "    <tr>\n",
       "      <th>427</th>\n",
       "      <td>428</td>\n",
       "      <td>APPLE iPhone 11 (Green, 128 GB)</td>\n",
       "      <td>43990</td>\n",
       "      <td>4.7</td>\n",
       "    </tr>\n",
       "    <tr>\n",
       "      <th>428</th>\n",
       "      <td>429</td>\n",
       "      <td>APPLE iPhone 12 Mini (Black, 64 GB)</td>\n",
       "      <td>39490</td>\n",
       "      <td>4.6</td>\n",
       "    </tr>\n",
       "    <tr>\n",
       "      <th>429</th>\n",
       "      <td>430</td>\n",
       "      <td>APPLE iPhone 13 (Blue, 256 GB)</td>\n",
       "      <td>67990</td>\n",
       "      <td>4.5</td>\n",
       "    </tr>\n",
       "    <tr>\n",
       "      <th>430</th>\n",
       "      <td>431</td>\n",
       "      <td>APPLE iPhone 13 (Starlight, 256 GB)</td>\n",
       "      <td>67990</td>\n",
       "      <td>4.6</td>\n",
       "    </tr>\n",
       "    <tr>\n",
       "      <th>431</th>\n",
       "      <td>432</td>\n",
       "      <td>APPLE iPhone 12 Mini (White, 128 GB)</td>\n",
       "      <td>46490</td>\n",
       "      <td>4.5</td>\n",
       "    </tr>\n",
       "  </tbody>\n",
       "</table>\n",
       "<p>432 rows × 4 columns</p>\n",
       "</div>"
      ],
      "text/plain": [
       "      id                                  name  price  rating\n",
       "0      1        APPLE iPhone 11 (White, 64 GB)  35990     4.6\n",
       "1      2   APPLE iPhone 13 (Starlight, 128 GB)  59990     4.7\n",
       "2      3    APPLE iPhone 13 (Midnight, 128 GB)  59990     4.7\n",
       "3      4        APPLE iPhone 11 (Black, 64 GB)  35990     4.6\n",
       "4      5       APPLE iPhone 13 (Green, 128 GB)  59990     4.7\n",
       "..   ...                                   ...    ...     ...\n",
       "427  428       APPLE iPhone 11 (Green, 128 GB)  43990     4.7\n",
       "428  429   APPLE iPhone 12 Mini (Black, 64 GB)  39490     4.6\n",
       "429  430        APPLE iPhone 13 (Blue, 256 GB)  67990     4.5\n",
       "430  431   APPLE iPhone 13 (Starlight, 256 GB)  67990     4.6\n",
       "431  432  APPLE iPhone 12 Mini (White, 128 GB)  46490     4.5\n",
       "\n",
       "[432 rows x 4 columns]"
      ]
     },
     "execution_count": 7,
     "metadata": {},
     "output_type": "execute_result"
    }
   ],
   "source": [
    "import pandas as pd\n",
    "df=pd.DataFrame(d)\n",
    "df"
   ]
  },
  {
   "cell_type": "code",
   "execution_count": null,
   "id": "b9fdea2e",
   "metadata": {},
   "outputs": [],
   "source": [
    "df.to_csv('iphonedata.csv')\n"
   ]
  },
  {
   "cell_type": "code",
   "execution_count": null,
   "id": "9a197a8c",
   "metadata": {},
   "outputs": [],
   "source": [
    "df2=pd.read_csv(\"iphonedata.csv\")\n",
    "df2"
   ]
  }
 ],
 "metadata": {
  "kernelspec": {
   "display_name": "Python 3 (ipykernel)",
   "language": "python",
   "name": "python3"
  },
  "language_info": {
   "codemirror_mode": {
    "name": "ipython",
    "version": 3
   },
   "file_extension": ".py",
   "mimetype": "text/x-python",
   "name": "python",
   "nbconvert_exporter": "python",
   "pygments_lexer": "ipython3",
   "version": "3.9.12"
  }
 },
 "nbformat": 4,
 "nbformat_minor": 5
}
